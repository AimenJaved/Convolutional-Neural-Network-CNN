{
  "nbformat": 4,
  "nbformat_minor": 0,
  "metadata": {
    "colab": {
      "name": "Building Neural Network--FP.ipynb",
      "provenance": [],
      "collapsed_sections": []
    },
    "kernelspec": {
      "name": "python3",
      "display_name": "Python 3"
    }
  },
  "cells": [
    {
      "cell_type": "code",
      "metadata": {
        "id": "ovaenahqDmnc"
      },
      "source": [
        "import numpy as np\n"
      ],
      "execution_count": 2,
      "outputs": []
    },
    {
      "cell_type": "markdown",
      "metadata": {
        "id": "X-sDd8ubLggT"
      },
      "source": [
        "It is the basic Neural Network with forward propagation only, not Backpropagation"
      ]
    },
    {
      "cell_type": "code",
      "metadata": {
        "id": "blHfj8lvEGol"
      },
      "source": [
        "X=[[3,2,1,4],\n",
        "   [9,8,7,6],\n",
        "   [7,6,4,3],\n",
        "   [6,7,4,3]];"
      ],
      "execution_count": 14,
      "outputs": []
    },
    {
      "cell_type": "code",
      "metadata": {
        "id": "7dmyhgQXESVM"
      },
      "source": [
        "class Dense():\n",
        "  def __init__(self,inputs,neurons):\n",
        "    self.weights=0.10*np.random.randn(inputs,neurons)\n",
        "    self.biases=np.zeros((1,neurons))\n",
        "  def forward(self,inputs):\n",
        "    self.output=np.dot(inputs,self.weights) +self.biases"
      ],
      "execution_count": 18,
      "outputs": []
    },
    {
      "cell_type": "code",
      "metadata": {
        "id": "vJ-8ZqqSGdfb"
      },
      "source": [
        "layer1= Dense(4,5)"
      ],
      "execution_count": 19,
      "outputs": []
    },
    {
      "cell_type": "code",
      "metadata": {
        "id": "ifNl0a5pJBO-",
        "outputId": "e16894b9-cf62-4abc-cba1-7ae778038db2",
        "colab": {
          "base_uri": "https://localhost:8080/"
        }
      },
      "source": [
        "layer1"
      ],
      "execution_count": 20,
      "outputs": [
        {
          "output_type": "execute_result",
          "data": {
            "text/plain": [
              "<__main__.Dense at 0x7ff6d2d77e80>"
            ]
          },
          "metadata": {
            "tags": []
          },
          "execution_count": 20
        }
      ]
    },
    {
      "cell_type": "code",
      "metadata": {
        "id": "4rmRV4c8JLu6"
      },
      "source": [
        "layer1.forward(X)"
      ],
      "execution_count": 22,
      "outputs": []
    },
    {
      "cell_type": "code",
      "metadata": {
        "id": "hCVVdw5kJDqT",
        "outputId": "20802ebd-1d88-41d4-a254-04a363c6b919",
        "colab": {
          "base_uri": "https://localhost:8080/"
        }
      },
      "source": [
        "print(layer1.output)"
      ],
      "execution_count": 23,
      "outputs": [
        {
          "output_type": "stream",
          "text": [
            "[[-0.35387222 -0.55294679 -0.02382586  0.11173988  0.47323901]\n",
            " [-1.51710277 -1.52352611  0.22220704 -0.03595499 -0.05301024]\n",
            " [-1.25907039 -1.22267235  0.07225518 -0.11200345  0.07073597]\n",
            " [-1.22855845 -1.03179902 -0.05206213 -0.24678803 -0.05958609]]\n"
          ],
          "name": "stdout"
        }
      ]
    },
    {
      "cell_type": "markdown",
      "metadata": {
        "id": "VMZymr7xLT8_"
      },
      "source": [
        "Applied Relu activation function to reduce value to zero,if they are less than zero."
      ]
    },
    {
      "cell_type": "code",
      "metadata": {
        "id": "Bqugp-RUKYTI"
      },
      "source": [
        "class Relu():\n",
        "  def forward(self,inputs):\n",
        "    self.output=np.maximum(0,inputs)\n",
        "  "
      ],
      "execution_count": 25,
      "outputs": []
    },
    {
      "cell_type": "code",
      "metadata": {
        "id": "CQfRZbR3KyLj"
      },
      "source": [
        "activation=Relu()"
      ],
      "execution_count": 27,
      "outputs": []
    },
    {
      "cell_type": "code",
      "metadata": {
        "id": "2ZKYpajBK95V"
      },
      "source": [
        "activation.forward(layer1.output)"
      ],
      "execution_count": 28,
      "outputs": []
    },
    {
      "cell_type": "code",
      "metadata": {
        "id": "OXqUw0N0LJV3",
        "outputId": "7929ee3b-9e4e-417c-9a26-ba83b0e54cf3",
        "colab": {
          "base_uri": "https://localhost:8080/"
        }
      },
      "source": [
        "print(activation.output)"
      ],
      "execution_count": 29,
      "outputs": [
        {
          "output_type": "stream",
          "text": [
            "[[0.         0.         0.         0.11173988 0.47323901]\n",
            " [0.         0.         0.22220704 0.         0.        ]\n",
            " [0.         0.         0.07225518 0.         0.07073597]\n",
            " [0.         0.         0.         0.         0.        ]]\n"
          ],
          "name": "stdout"
        }
      ]
    }
  ]
}